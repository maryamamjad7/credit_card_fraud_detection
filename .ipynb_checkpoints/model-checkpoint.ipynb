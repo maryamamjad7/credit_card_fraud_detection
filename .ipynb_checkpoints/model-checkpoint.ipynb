{
 "cells": [
  {
   "cell_type": "markdown",
   "metadata": {},
   "source": [
    "# Importing Libraries"
   ]
  },
  {
   "cell_type": "code",
   "execution_count": 1,
   "metadata": {},
   "outputs": [],
   "source": [
    "import warnings\n",
    "warnings.filterwarnings('ignore')\n",
    "\n",
    "import pandas as pd\n",
    "import numpy as np\n",
    "import matplotlib.pyplot as plt\n",
    "\n",
    "from sklearn.preprocessing import StandardScaler\n",
    "from sklearn.model_selection import train_test_split, cross_val_score, RandomizedSearchCV\n",
    "from sklearn.linear_model import LogisticRegression\n",
    "from sklearn.neighbors import KNeighborsClassifier\n",
    "from sklearn.tree import DecisionTreeClassifier\n",
    "from sklearn.ensemble import RandomForestClassifier\n",
    "from sklearn.ensemble import AdaBoostClassifier, IsolationForest\n",
    "from sklearn.svm import SVC\n",
    "from sklearn.ensemble import BaggingClassifier\n",
    "from sklearn.metrics import f1_score, ConfusionMatrixDisplay, confusion_matrix\n",
    "\n",
    "from tensorflow.keras.models import Sequential\n",
    "from tensorflow.keras.layers import Dense, Dropout, GRU\n",
    "from tensorflow.keras.callbacks import EarlyStopping\n",
    "import pickle\n",
    "from copy import deepcopy"
   ]
  },
  {
   "cell_type": "markdown",
   "metadata": {},
   "source": [
    "# Reading Data"
   ]
  },
  {
   "cell_type": "code",
   "execution_count": 2,
   "metadata": {},
   "outputs": [
    {
     "data": {
      "text/html": [
       "<div>\n",
       "<style scoped>\n",
       "    .dataframe tbody tr th:only-of-type {\n",
       "        vertical-align: middle;\n",
       "    }\n",
       "\n",
       "    .dataframe tbody tr th {\n",
       "        vertical-align: top;\n",
       "    }\n",
       "\n",
       "    .dataframe thead th {\n",
       "        text-align: right;\n",
       "    }\n",
       "</style>\n",
       "<table border=\"1\" class=\"dataframe\">\n",
       "  <thead>\n",
       "    <tr style=\"text-align: right;\">\n",
       "      <th></th>\n",
       "      <th>cc_num</th>\n",
       "      <th>name</th>\n",
       "      <th>gender</th>\n",
       "      <th>age</th>\n",
       "      <th>job</th>\n",
       "      <th>city_pop</th>\n",
       "      <th>zip</th>\n",
       "      <th>merchant</th>\n",
       "      <th>category</th>\n",
       "      <th>amt</th>\n",
       "      <th>unix_time</th>\n",
       "      <th>merch_lat</th>\n",
       "      <th>merch_long</th>\n",
       "      <th>is_fraud</th>\n",
       "      <th>name_encoded</th>\n",
       "      <th>gender_encoded</th>\n",
       "      <th>job_encoded</th>\n",
       "      <th>merchant_encoded</th>\n",
       "      <th>category_encoded</th>\n",
       "    </tr>\n",
       "  </thead>\n",
       "  <tbody>\n",
       "    <tr>\n",
       "      <th>0</th>\n",
       "      <td>2291163933867244</td>\n",
       "      <td>405</td>\n",
       "      <td>1</td>\n",
       "      <td>53</td>\n",
       "      <td>287</td>\n",
       "      <td>333497</td>\n",
       "      <td>29209</td>\n",
       "      <td>319</td>\n",
       "      <td>10</td>\n",
       "      <td>2.86</td>\n",
       "      <td>1371816865</td>\n",
       "      <td>33.986391</td>\n",
       "      <td>-81.200714</td>\n",
       "      <td>0</td>\n",
       "      <td>405</td>\n",
       "      <td>1</td>\n",
       "      <td>287</td>\n",
       "      <td>319</td>\n",
       "      <td>10</td>\n",
       "    </tr>\n",
       "    <tr>\n",
       "      <th>1</th>\n",
       "      <td>3573030041201292</td>\n",
       "      <td>461</td>\n",
       "      <td>0</td>\n",
       "      <td>31</td>\n",
       "      <td>404</td>\n",
       "      <td>302</td>\n",
       "      <td>84002</td>\n",
       "      <td>591</td>\n",
       "      <td>10</td>\n",
       "      <td>29.84</td>\n",
       "      <td>1371816873</td>\n",
       "      <td>39.450498</td>\n",
       "      <td>-109.960431</td>\n",
       "      <td>0</td>\n",
       "      <td>461</td>\n",
       "      <td>0</td>\n",
       "      <td>404</td>\n",
       "      <td>591</td>\n",
       "      <td>10</td>\n",
       "    </tr>\n",
       "    <tr>\n",
       "      <th>2</th>\n",
       "      <td>3598215285024754</td>\n",
       "      <td>74</td>\n",
       "      <td>0</td>\n",
       "      <td>50</td>\n",
       "      <td>271</td>\n",
       "      <td>34496</td>\n",
       "      <td>11710</td>\n",
       "      <td>611</td>\n",
       "      <td>5</td>\n",
       "      <td>41.28</td>\n",
       "      <td>1371816893</td>\n",
       "      <td>40.495810</td>\n",
       "      <td>-74.196111</td>\n",
       "      <td>0</td>\n",
       "      <td>74</td>\n",
       "      <td>0</td>\n",
       "      <td>271</td>\n",
       "      <td>611</td>\n",
       "      <td>5</td>\n",
       "    </tr>\n",
       "    <tr>\n",
       "      <th>3</th>\n",
       "      <td>3591919803438423</td>\n",
       "      <td>119</td>\n",
       "      <td>1</td>\n",
       "      <td>34</td>\n",
       "      <td>420</td>\n",
       "      <td>54767</td>\n",
       "      <td>32780</td>\n",
       "      <td>222</td>\n",
       "      <td>9</td>\n",
       "      <td>60.05</td>\n",
       "      <td>1371816915</td>\n",
       "      <td>28.812398</td>\n",
       "      <td>-80.883061</td>\n",
       "      <td>0</td>\n",
       "      <td>119</td>\n",
       "      <td>1</td>\n",
       "      <td>420</td>\n",
       "      <td>222</td>\n",
       "      <td>9</td>\n",
       "    </tr>\n",
       "    <tr>\n",
       "      <th>4</th>\n",
       "      <td>3526826139003047</td>\n",
       "      <td>727</td>\n",
       "      <td>1</td>\n",
       "      <td>66</td>\n",
       "      <td>204</td>\n",
       "      <td>1126</td>\n",
       "      <td>49632</td>\n",
       "      <td>292</td>\n",
       "      <td>13</td>\n",
       "      <td>3.19</td>\n",
       "      <td>1371816917</td>\n",
       "      <td>44.959148</td>\n",
       "      <td>-85.884734</td>\n",
       "      <td>0</td>\n",
       "      <td>727</td>\n",
       "      <td>1</td>\n",
       "      <td>204</td>\n",
       "      <td>292</td>\n",
       "      <td>13</td>\n",
       "    </tr>\n",
       "  </tbody>\n",
       "</table>\n",
       "</div>"
      ],
      "text/plain": [
       "             cc_num  name  gender  age  job  city_pop    zip  merchant  \\\n",
       "0  2291163933867244   405       1   53  287    333497  29209       319   \n",
       "1  3573030041201292   461       0   31  404       302  84002       591   \n",
       "2  3598215285024754    74       0   50  271     34496  11710       611   \n",
       "3  3591919803438423   119       1   34  420     54767  32780       222   \n",
       "4  3526826139003047   727       1   66  204      1126  49632       292   \n",
       "\n",
       "   category    amt   unix_time  merch_lat  merch_long  is_fraud  name_encoded  \\\n",
       "0        10   2.86  1371816865  33.986391  -81.200714         0           405   \n",
       "1        10  29.84  1371816873  39.450498 -109.960431         0           461   \n",
       "2         5  41.28  1371816893  40.495810  -74.196111         0            74   \n",
       "3         9  60.05  1371816915  28.812398  -80.883061         0           119   \n",
       "4        13   3.19  1371816917  44.959148  -85.884734         0           727   \n",
       "\n",
       "   gender_encoded  job_encoded  merchant_encoded  category_encoded  \n",
       "0               1          287               319                10  \n",
       "1               0          404               591                10  \n",
       "2               0          271               611                 5  \n",
       "3               1          420               222                 9  \n",
       "4               1          204               292                13  "
      ]
     },
     "execution_count": 2,
     "metadata": {},
     "output_type": "execute_result"
    }
   ],
   "source": [
    "df = pd.read_csv('dataset/data.csv')\n",
    "df.head()"
   ]
  },
  {
   "cell_type": "code",
   "execution_count": 5,
   "metadata": {},
   "outputs": [
    {
     "data": {
      "text/plain": [
       "0    53574\n",
       "1     7506\n",
       "Name: is_fraud, dtype: int64"
      ]
     },
     "execution_count": 5,
     "metadata": {},
     "output_type": "execute_result"
    }
   ],
   "source": [
    "df['is_fraud'].value_counts()"
   ]
  },
  {
   "cell_type": "markdown",
   "metadata": {},
   "source": [
    "# Feature Selection"
   ]
  },
  {
   "cell_type": "code",
   "execution_count": 6,
   "metadata": {},
   "outputs": [
    {
     "data": {
      "text/html": [
       "<div>\n",
       "<style scoped>\n",
       "    .dataframe tbody tr th:only-of-type {\n",
       "        vertical-align: middle;\n",
       "    }\n",
       "\n",
       "    .dataframe tbody tr th {\n",
       "        vertical-align: top;\n",
       "    }\n",
       "\n",
       "    .dataframe thead th {\n",
       "        text-align: right;\n",
       "    }\n",
       "</style>\n",
       "<table border=\"1\" class=\"dataframe\">\n",
       "  <thead>\n",
       "    <tr style=\"text-align: right;\">\n",
       "      <th></th>\n",
       "      <th>gender</th>\n",
       "      <th>age</th>\n",
       "      <th>zip</th>\n",
       "      <th>category</th>\n",
       "      <th>amt</th>\n",
       "    </tr>\n",
       "  </thead>\n",
       "  <tbody>\n",
       "    <tr>\n",
       "      <th>0</th>\n",
       "      <td>1</td>\n",
       "      <td>53</td>\n",
       "      <td>29209</td>\n",
       "      <td>10</td>\n",
       "      <td>2.86</td>\n",
       "    </tr>\n",
       "    <tr>\n",
       "      <th>1</th>\n",
       "      <td>0</td>\n",
       "      <td>31</td>\n",
       "      <td>84002</td>\n",
       "      <td>10</td>\n",
       "      <td>29.84</td>\n",
       "    </tr>\n",
       "    <tr>\n",
       "      <th>2</th>\n",
       "      <td>0</td>\n",
       "      <td>50</td>\n",
       "      <td>11710</td>\n",
       "      <td>5</td>\n",
       "      <td>41.28</td>\n",
       "    </tr>\n",
       "    <tr>\n",
       "      <th>3</th>\n",
       "      <td>1</td>\n",
       "      <td>34</td>\n",
       "      <td>32780</td>\n",
       "      <td>9</td>\n",
       "      <td>60.05</td>\n",
       "    </tr>\n",
       "    <tr>\n",
       "      <th>4</th>\n",
       "      <td>1</td>\n",
       "      <td>66</td>\n",
       "      <td>49632</td>\n",
       "      <td>13</td>\n",
       "      <td>3.19</td>\n",
       "    </tr>\n",
       "  </tbody>\n",
       "</table>\n",
       "</div>"
      ],
      "text/plain": [
       "   gender  age    zip  category    amt\n",
       "0       1   53  29209        10   2.86\n",
       "1       0   31  84002        10  29.84\n",
       "2       0   50  11710         5  41.28\n",
       "3       1   34  32780         9  60.05\n",
       "4       1   66  49632        13   3.19"
      ]
     },
     "execution_count": 6,
     "metadata": {},
     "output_type": "execute_result"
    }
   ],
   "source": [
    "y = df['is_fraud']\n",
    "X = df[['gender', 'age','zip','category', 'amt']]\n",
    "X.head()"
   ]
  },
  {
   "cell_type": "markdown",
   "metadata": {},
   "source": [
    "# Train and Test Split"
   ]
  },
  {
   "cell_type": "code",
   "execution_count": 7,
   "metadata": {},
   "outputs": [],
   "source": [
    "X_train, X_test, y_train, y_test = train_test_split(X, y, test_size=.30, random_state=43, stratify=y)"
   ]
  },
  {
   "cell_type": "code",
   "execution_count": 8,
   "metadata": {},
   "outputs": [],
   "source": [
    "temp = X_test.copy(deep=True)"
   ]
  },
  {
   "cell_type": "code",
   "execution_count": 9,
   "metadata": {},
   "outputs": [],
   "source": [
    "X_train.to_csv(\"dataset/train.csv\", index=False)"
   ]
  },
  {
   "cell_type": "markdown",
   "metadata": {},
   "source": [
    "# Data Scaling"
   ]
  },
  {
   "cell_type": "code",
   "execution_count": 10,
   "metadata": {},
   "outputs": [],
   "source": [
    "sc = StandardScaler()\n",
    "sc.fit(X_train)\n",
    "X_train = sc.transform(X_train)\n",
    "X_test = sc.transform(X_test)"
   ]
  },
  {
   "cell_type": "code",
   "execution_count": 11,
   "metadata": {},
   "outputs": [],
   "source": [
    "pickle.dump(sc,open('model/sc.pkl','wb'))"
   ]
  },
  {
   "cell_type": "markdown",
   "metadata": {},
   "source": [
    "# Modeling"
   ]
  },
  {
   "cell_type": "markdown",
   "metadata": {},
   "source": [
    "## Function to Build model"
   ]
  },
  {
   "cell_type": "code",
   "execution_count": 12,
   "metadata": {},
   "outputs": [],
   "source": [
    "def build_model(MODEL):\n",
    "    model = MODEL\n",
    "    \n",
    "    print(\"Fitting model...\", end=\"\")\n",
    "    model.fit(X_train, y_train)\n",
    "    \n",
    "    print(\"\\rTrain/Test Prediction...\", end=\"\")\n",
    "    y_pred_train = model.predict(X_train)\n",
    "    y_pred_test = model.predict(X_test)\n",
    "    \n",
    "    print(\"\\rClaculating scores....\", end=\"\")\n",
    "    train_score = f1_score(y_train, y_pred_train)\n",
    "    test_score = f1_score(y_test, y_pred_test)\n",
    "    print(\"\\rF1 score for Train data :\",train_score)\n",
    "    print(\"F1 score for Test data :\",test_score)\n",
    "    \n",
    "    return train_score, test_score, model"
   ]
  },
  {
   "cell_type": "markdown",
   "metadata": {},
   "source": [
    "## Helpers"
   ]
  },
  {
   "cell_type": "code",
   "execution_count": 13,
   "metadata": {},
   "outputs": [],
   "source": [
    "models = {\"Logistic Regression\":LogisticRegression(),\n",
    "          \"K-Neighbors Classifier\": KNeighborsClassifier(),\n",
    "          \"Decision Tree Classifier\": DecisionTreeClassifier(),\n",
    "          \"Random Forest Classifier\": RandomForestClassifier(),\n",
    "          \"AdaBoost Classifier\": AdaBoostClassifier(),\n",
    "          \"Support Vector classifer\": SVC(),\n",
    "          \"Bagging Classifier\": BaggingClassifier()\n",
    "         }\n",
    "\n",
    "scores=[f' {\"MODEL\".ljust(25)} {\"Train Score\".ljust(12)} {\"Test Score\".ljust(12)}']\n",
    "\n",
    "best_model = None\n",
    "best_test_score = 0"
   ]
  },
  {
   "cell_type": "markdown",
   "metadata": {},
   "source": [
    "## Evaluating List of Models"
   ]
  },
  {
   "cell_type": "code",
   "execution_count": 14,
   "metadata": {},
   "outputs": [
    {
     "name": "stdout",
     "output_type": "stream",
     "text": [
      "Logistic Regression:\n",
      "F1 score for Train data : 0.6448060687630001\n",
      "F1 score for Test data : 0.6448491747296529\n",
      "\n",
      "K-Neighbors Classifier:\n",
      "F1 score for Train data : 0.8928283642224014\n",
      "F1 score for Test data : 0.8551691281562648\n",
      "\n",
      "Decision Tree Classifier:\n",
      "F1 score for Train data : 1.0\n",
      "F1 score for Test data : 0.8888397790055249\n",
      "\n",
      "Random Forest Classifier:\n",
      "F1 score for Train data : 0.9998096325909004\n",
      "F1 score for Test data : 0.9100068697046027\n",
      "\n",
      "AdaBoost Classifier:\n",
      "F1 score for Train data : 0.7836220472440946\n",
      "F1 score for Test data : 0.7771232204221895\n",
      "\n",
      "Support Vector classifer:\n",
      "F1 score for Train data : 0.8265207595751528\n",
      "F1 score for Test data : 0.8205897051474262\n",
      "\n",
      "Bagging Classifier:\n",
      "F1 score for Train data : 0.99080635893507\n",
      "F1 score for Test data : 0.9013052438745135\n",
      "\n"
     ]
    }
   ],
   "source": [
    "for key,MODEL in models.items():\n",
    "    print(f\"{key}:\")\n",
    "    train_score, test_score, model = build_model(MODEL)\n",
    "    if test_score > best_test_score:\n",
    "        best_model = deepcopy(model)\n",
    "        best_test_score = test_score\n",
    "    print()\n",
    "    scores.append(f'|{key.ljust(25)}|{str(round(train_score,4)).ljust(12)}|{str(round(test_score,4)).ljust(12)}|')"
   ]
  },
  {
   "cell_type": "markdown",
   "metadata": {},
   "source": [
    "## CNN Model"
   ]
  },
  {
   "cell_type": "code",
   "execution_count": 15,
   "metadata": {},
   "outputs": [
    {
     "name": "stdout",
     "output_type": "stream",
     "text": [
      "WARNING:tensorflow:From C:\\Users\\NARESH\\anaconda3\\lib\\site-packages\\tensorflow\\python\\ops\\init_ops.py:1251: calling VarianceScaling.__init__ (from tensorflow.python.ops.init_ops) with dtype is deprecated and will be removed in a future version.\n",
      "Instructions for updating:\n",
      "Call initializer instance with the dtype argument instead of passing it to the constructor\n"
     ]
    }
   ],
   "source": [
    "model = Sequential()\n",
    "model.add(Dense(activation = \"relu\", input_dim = 5, units = 64))\n",
    "model.add(Dropout(rate=0.2))\n",
    "model.add(Dense(activation = \"relu\", units = 128))\n",
    "model.add(Dropout(rate=0.4))\n",
    "model.add(Dense(activation = \"sigmoid\", units = 25))\n",
    "model.add(Dense(activation = \"sigmoid\", units = 1))"
   ]
  },
  {
   "cell_type": "markdown",
   "metadata": {},
   "source": [
    "### Model Summary"
   ]
  },
  {
   "cell_type": "code",
   "execution_count": 16,
   "metadata": {},
   "outputs": [
    {
     "name": "stdout",
     "output_type": "stream",
     "text": [
      "Model: \"sequential\"\n",
      "_________________________________________________________________\n",
      "Layer (type)                 Output Shape              Param #   \n",
      "=================================================================\n",
      "dense (Dense)                (None, 64)                384       \n",
      "_________________________________________________________________\n",
      "dropout (Dropout)            (None, 64)                0         \n",
      "_________________________________________________________________\n",
      "dense_1 (Dense)              (None, 128)               8320      \n",
      "_________________________________________________________________\n",
      "dropout_1 (Dropout)          (None, 128)               0         \n",
      "_________________________________________________________________\n",
      "dense_2 (Dense)              (None, 25)                3225      \n",
      "_________________________________________________________________\n",
      "dense_3 (Dense)              (None, 1)                 26        \n",
      "=================================================================\n",
      "Total params: 11,955\n",
      "Trainable params: 11,955\n",
      "Non-trainable params: 0\n",
      "_________________________________________________________________\n"
     ]
    }
   ],
   "source": [
    "model.summary()"
   ]
  },
  {
   "cell_type": "markdown",
   "metadata": {},
   "source": [
    "### Compile Model"
   ]
  },
  {
   "cell_type": "code",
   "execution_count": 17,
   "metadata": {},
   "outputs": [
    {
     "name": "stdout",
     "output_type": "stream",
     "text": [
      "WARNING:tensorflow:From C:\\Users\\NARESH\\anaconda3\\lib\\site-packages\\tensorflow\\python\\ops\\nn_impl.py:180: add_dispatch_support.<locals>.wrapper (from tensorflow.python.ops.array_ops) is deprecated and will be removed in a future version.\n",
      "Instructions for updating:\n",
      "Use tf.where in 2.0, which has the same broadcast rule as np.where\n"
     ]
    }
   ],
   "source": [
    "model.compile(optimizer = 'adam' ,  loss='binary_crossentropy', metrics=['Precision','Recall'] )"
   ]
  },
  {
   "cell_type": "markdown",
   "metadata": {},
   "source": [
    "### Fitting CNN Model with early stopping"
   ]
  },
  {
   "cell_type": "code",
   "execution_count": 18,
   "metadata": {},
   "outputs": [],
   "source": [
    "early_stop = EarlyStopping(patience=5)"
   ]
  },
  {
   "cell_type": "code",
   "execution_count": 19,
   "metadata": {},
   "outputs": [
    {
     "name": "stdout",
     "output_type": "stream",
     "text": [
      "Train on 42756 samples, validate on 18324 samples\n",
      "Epoch 1/20\n",
      "42756/42756 [==============================] - 4s 87us/sample - loss: 0.2104 - precision: 0.8014 - recall: 0.6245 - val_loss: 0.1649 - val_precision: 0.9031 - val_recall: 0.7407\n",
      "Epoch 2/20\n",
      "42756/42756 [==============================] - 3s 77us/sample - loss: 0.1639 - precision: 0.9154 - recall: 0.7370 - val_loss: 0.1598 - val_precision: 0.9186 - val_recall: 0.7469\n",
      "Epoch 3/20\n",
      "42756/42756 [==============================] - 3s 77us/sample - loss: 0.1606 - precision: 0.9201 - recall: 0.7411 - val_loss: 0.1584 - val_precision: 0.9193 - val_recall: 0.7482\n",
      "Epoch 4/20\n",
      "42756/42756 [==============================] - 3s 76us/sample - loss: 0.1592 - precision: 0.9226 - recall: 0.7444 - val_loss: 0.1576 - val_precision: 0.9185 - val_recall: 0.7504\n",
      "Epoch 5/20\n",
      "42756/42756 [==============================] - 3s 75us/sample - loss: 0.1569 - precision: 0.9251 - recall: 0.7457 - val_loss: 0.1561 - val_precision: 0.9170 - val_recall: 0.7504\n",
      "Epoch 6/20\n",
      "42756/42756 [==============================] - 3s 74us/sample - loss: 0.1563 - precision: 0.9250 - recall: 0.7461 - val_loss: 0.1551 - val_precision: 0.9172 - val_recall: 0.7522\n",
      "Epoch 7/20\n",
      "42756/42756 [==============================] - 3s 79us/sample - loss: 0.1547 - precision: 0.9292 - recall: 0.7497 - val_loss: 0.1539 - val_precision: 0.9261 - val_recall: 0.7460\n",
      "Epoch 8/20\n",
      "42756/42756 [==============================] - 3s 72us/sample - loss: 0.1539 - precision: 0.9287 - recall: 0.7484 - val_loss: 0.1522 - val_precision: 0.9234 - val_recall: 0.7496\n",
      "Epoch 9/20\n",
      "42756/42756 [==============================] - 3s 74us/sample - loss: 0.1527 - precision: 0.9275 - recall: 0.7476 - val_loss: 0.1498 - val_precision: 0.9274 - val_recall: 0.7487\n",
      "Epoch 10/20\n",
      "42756/42756 [==============================] - 3s 73us/sample - loss: 0.1512 - precision: 0.9312 - recall: 0.7495 - val_loss: 0.1512 - val_precision: 0.9276 - val_recall: 0.7451\n",
      "Epoch 11/20\n",
      "42756/42756 [==============================] - 3s 76us/sample - loss: 0.1512 - precision: 0.9289 - recall: 0.7480 - val_loss: 0.1477 - val_precision: 0.9249 - val_recall: 0.7544\n",
      "Epoch 12/20\n",
      "42756/42756 [==============================] - 3s 79us/sample - loss: 0.1495 - precision: 0.9302 - recall: 0.7486 - val_loss: 0.1451 - val_precision: 0.9263 - val_recall: 0.7531\n",
      "Epoch 13/20\n",
      "42756/42756 [==============================] - 3s 78us/sample - loss: 0.1485 - precision: 0.9317 - recall: 0.7505 - val_loss: 0.1424 - val_precision: 0.9280 - val_recall: 0.7500\n",
      "Epoch 14/20\n",
      "42756/42756 [==============================] - 3s 75us/sample - loss: 0.1463 - precision: 0.9324 - recall: 0.7484 - val_loss: 0.1397 - val_precision: 0.9332 - val_recall: 0.7442\n",
      "Epoch 15/20\n",
      "42756/42756 [==============================] - 3s 76us/sample - loss: 0.1443 - precision: 0.9326 - recall: 0.7501 - val_loss: 0.1369 - val_precision: 0.9379 - val_recall: 0.7447\n",
      "Epoch 16/20\n",
      "42756/42756 [==============================] - 3s 75us/sample - loss: 0.1410 - precision: 0.9339 - recall: 0.7497 - val_loss: 0.1342 - val_precision: 0.9358 - val_recall: 0.7504\n",
      "Epoch 17/20\n",
      "42756/42756 [==============================] - 3s 79us/sample - loss: 0.1383 - precision: 0.9347 - recall: 0.7493 - val_loss: 0.1324 - val_precision: 0.9350 - val_recall: 0.7478\n",
      "Epoch 18/20\n",
      "42756/42756 [==============================] - 3s 74us/sample - loss: 0.1356 - precision: 0.9365 - recall: 0.7501 - val_loss: 0.1306 - val_precision: 0.9280 - val_recall: 0.7553\n",
      "Epoch 19/20\n",
      "42756/42756 [==============================] - 3s 74us/sample - loss: 0.1319 - precision: 0.9365 - recall: 0.7491 - val_loss: 0.1280 - val_precision: 0.9354 - val_recall: 0.7518\n",
      "Epoch 20/20\n",
      "42756/42756 [==============================] - 3s 73us/sample - loss: 0.1286 - precision: 0.9383 - recall: 0.7495 - val_loss: 0.1230 - val_precision: 0.9338 - val_recall: 0.7513\n"
     ]
    }
   ],
   "source": [
    "history= model.fit(X_train, y_train,validation_data=(X_test, y_test), epochs=20, batch_size=64, callbacks=[early_stop]);"
   ]
  },
  {
   "cell_type": "markdown",
   "metadata": {},
   "source": [
    "### Visualization - Model's Performance"
   ]
  },
  {
   "cell_type": "code",
   "execution_count": 20,
   "metadata": {},
   "outputs": [
    {
     "data": {
      "image/png": "[encoded data removed]",
      "text/plain": [
       "<Figure size 432x288 with 1 Axes>"
      ]
     },
     "metadata": {
      "needs_background": "light"
     },
     "output_type": "display_data"
    }
   ],
   "source": [
    "# plt.figure(figsize=(14, 7))\n",
    "# plt.subplot(1, 2, 1)\n",
    "\n",
    "plt.plot(history.history['loss'], label='Train Loss')\n",
    "plt.plot(history.history['val_loss'], label='Test loss')\n",
    "plt.xlabel('iterations') \n",
    "plt.ylabel('loss') \n",
    "plt.title(\"Loss Comparision\")\n",
    "plt.legend();\n"
   ]
  },
  {
   "cell_type": "markdown",
   "metadata": {},
   "source": [
    "### Model Evaluation"
   ]
  },
  {
   "cell_type": "code",
   "execution_count": 21,
   "metadata": {},
   "outputs": [
    {
     "name": "stdout",
     "output_type": "stream",
     "text": [
      "42756/42756 [==============================] - 6s 146us/sample - loss: 0.1197 - precision: 0.9393 - recall: 0.7535 - loss: 0.1196 - precision: 0.9391 - recall\n",
      "18324/18324 [==============================] - 2s 129us/sample - loss: 0.1230 - precision: 0.9338 - recall: 0.7513\n",
      "F1 score for Train data :  0.8362023239810153\n",
      "F1 score for Test data :  0.8326771461367819\n"
     ]
    }
   ],
   "source": [
    "# Calculating F1 score using precision and recall for Train/Test data\n",
    "loss,precision, recall = model.evaluate(X_train, y_train, batch_size=9)\n",
    "f1_score_train = 2*(precision*recall) / (precision + recall)\n",
    "\n",
    "loss,precision, recall = model.evaluate(X_test, y_test, batch_size=9)\n",
    "f1_score_test = 2*(precision*recall) / (precision + recall)\n",
    "\n",
    "scores.append(f'|{\"CNN\".ljust(25)}|{str(round(f1_score_train,4)).ljust(12)}|{str(round(f1_score_test,4)).ljust(12)}|')\n",
    "\n",
    "print(\"F1 score for Train data : \", f1_score_train )\n",
    "print(\"F1 score for Test data : \", f1_score_test )\n"
   ]
  },
  {
   "cell_type": "markdown",
   "metadata": {},
   "source": [
    "## Performance Summary"
   ]
  },
  {
   "cell_type": "code",
   "execution_count": 22,
   "metadata": {},
   "outputs": [
    {
     "name": "stdout",
     "output_type": "stream",
     "text": [
      " MODEL                     Train Score  Test Score  \n",
      "|Logistic Regression      |0.6448      |0.6448      |\n",
      "|K-Neighbors Classifier   |0.8928      |0.8552      |\n",
      "|Decision Tree Classifier |1.0         |0.8888      |\n",
      "|Random Forest Classifier |0.9998      |0.91        |\n",
      "|AdaBoost Classifier      |0.7836      |0.7771      |\n",
      "|Support Vector classifer |0.8265      |0.8206      |\n",
      "|Bagging Classifier       |0.9908      |0.9013      |\n",
      "|CNN                      |0.8362      |0.8327      |\n"
     ]
    }
   ],
   "source": [
    "for i in scores:\n",
    "    print(i)"
   ]
  },
  {
   "cell_type": "markdown",
   "metadata": {},
   "source": [
    "## Best Model's Performance"
   ]
  },
  {
   "cell_type": "code",
   "execution_count": 23,
   "metadata": {},
   "outputs": [
    {
     "data": {
      "text/plain": [
       "RandomForestClassifier(bootstrap=True, ccp_alpha=0.0, class_weight=None,\n",
       "                       criterion='gini', max_depth=None, max_features='auto',\n",
       "                       max_leaf_nodes=None, max_samples=None,\n",
       "                       min_impurity_decrease=0.0, min_impurity_split=None,\n",
       "                       min_samples_leaf=1, min_samples_split=2,\n",
       "                       min_weight_fraction_leaf=0.0, n_estimators=100,\n",
       "                       n_jobs=None, oob_score=False, random_state=None,\n",
       "                       verbose=0, warm_start=False)"
      ]
     },
     "execution_count": 23,
     "metadata": {},
     "output_type": "execute_result"
    }
   ],
   "source": [
    "best_model"
   ]
  },
  {
   "cell_type": "code",
   "execution_count": 24,
   "metadata": {},
   "outputs": [
    {
     "data": {
      "text/plain": [
       "<sklearn.metrics._plot.confusion_matrix.ConfusionMatrixDisplay at 0x15361c9dac8>"
      ]
     },
     "execution_count": 24,
     "metadata": {},
     "output_type": "execute_result"
    },
    {
     "data": {
      "image/png": "[encoded data removed]",
      "text/plain": [
       "<Figure size 432x288 with 2 Axes>"
      ]
     },
     "metadata": {
      "needs_background": "light"
     },
     "output_type": "display_data"
    }
   ],
   "source": [
    "cm = confusion_matrix(y_test, best_model.predict(X_test))\n",
    "lable=['Geniune','Fraudulent']\n",
    "ConfusionMatrixDisplay(cm,lable).plot()"
   ]
  },
  {
   "cell_type": "code",
   "execution_count": 25,
   "metadata": {},
   "outputs": [],
   "source": [
    "import pickle\n",
    "pickle.dump(best_model,open('model/model.pkl','wb'))"
   ]
  }
 ],
 "metadata": {
  "kernelspec": {
   "display_name": "Python 3",
   "language": "python",
   "name": "python3"
  },
  "language_info": {
   "codemirror_mode": {
    "name": "ipython",
    "version": 3
   },
   "file_extension": ".py",
   "mimetype": "text/x-python",
   "name": "python",
   "nbconvert_exporter": "python",
   "pygments_lexer": "ipython3",
   "version": "3.7.6"
  }
 },
 "nbformat": 4,
 "nbformat_minor": 4
}
