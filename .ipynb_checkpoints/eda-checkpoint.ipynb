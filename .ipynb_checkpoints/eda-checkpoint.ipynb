{
 "cells": [
  {
   "cell_type": "code",
   "execution_count": 1,
   "metadata": {},
   "outputs": [],
   "source": [
    "import pandas as pd\n",
    "import numpy as np\n",
    "import matplotlib.pyplot as plt"
   ]
  },
  {
   "cell_type": "code",
   "execution_count": 2,
   "metadata": {},
   "outputs": [],
   "source": [
    "df = pd.read_csv('dataset/eda_data.csv')"
   ]
  },
  {
   "cell_type": "code",
   "execution_count": 3,
   "metadata": {},
   "outputs": [
    {
     "data": {
      "text/html": [
       "<div>\n",
       "<style scoped>\n",
       "    .dataframe tbody tr th:only-of-type {\n",
       "        vertical-align: middle;\n",
       "    }\n",
       "\n",
       "    .dataframe tbody tr th {\n",
       "        vertical-align: top;\n",
       "    }\n",
       "\n",
       "    .dataframe thead th {\n",
       "        text-align: right;\n",
       "    }\n",
       "</style>\n",
       "<table border=\"1\" class=\"dataframe\">\n",
       "  <thead>\n",
       "    <tr style=\"text-align: right;\">\n",
       "      <th></th>\n",
       "      <th>trans_date_trans_time</th>\n",
       "      <th>cc_num</th>\n",
       "      <th>merchant</th>\n",
       "      <th>category</th>\n",
       "      <th>amt</th>\n",
       "      <th>first</th>\n",
       "      <th>last</th>\n",
       "      <th>gender</th>\n",
       "      <th>street</th>\n",
       "      <th>city</th>\n",
       "      <th>...</th>\n",
       "      <th>lat</th>\n",
       "      <th>long</th>\n",
       "      <th>city_pop</th>\n",
       "      <th>job</th>\n",
       "      <th>trans_num</th>\n",
       "      <th>unix_time</th>\n",
       "      <th>merch_lat</th>\n",
       "      <th>merch_long</th>\n",
       "      <th>is_fraud</th>\n",
       "      <th>age</th>\n",
       "    </tr>\n",
       "  </thead>\n",
       "  <tbody>\n",
       "    <tr>\n",
       "      <th>0</th>\n",
       "      <td>2020-06-21 12:14:25</td>\n",
       "      <td>2291163933867244</td>\n",
       "      <td>fraud_Kirlin and Sons</td>\n",
       "      <td>personal_care</td>\n",
       "      <td>2.86</td>\n",
       "      <td>Jeff</td>\n",
       "      <td>Elliott</td>\n",
       "      <td>M</td>\n",
       "      <td>351 Darlene Green</td>\n",
       "      <td>Columbia</td>\n",
       "      <td>...</td>\n",
       "      <td>33.9659</td>\n",
       "      <td>-80.9355</td>\n",
       "      <td>333497</td>\n",
       "      <td>Mechanical engineer</td>\n",
       "      <td>2da90c7d74bd46a0caf3777415b3ebd3</td>\n",
       "      <td>1371816865</td>\n",
       "      <td>33.986391</td>\n",
       "      <td>-81.200714</td>\n",
       "      <td>0</td>\n",
       "      <td>53</td>\n",
       "    </tr>\n",
       "    <tr>\n",
       "      <th>1</th>\n",
       "      <td>2020-06-21 12:14:33</td>\n",
       "      <td>3573030041201292</td>\n",
       "      <td>fraud_Sporer-Keebler</td>\n",
       "      <td>personal_care</td>\n",
       "      <td>29.84</td>\n",
       "      <td>Joanne</td>\n",
       "      <td>Williams</td>\n",
       "      <td>F</td>\n",
       "      <td>3638 Marsh Union</td>\n",
       "      <td>Altonah</td>\n",
       "      <td>...</td>\n",
       "      <td>40.3207</td>\n",
       "      <td>-110.4360</td>\n",
       "      <td>302</td>\n",
       "      <td>Sales professional, IT</td>\n",
       "      <td>324cc204407e99f51b0d6ca0055005e7</td>\n",
       "      <td>1371816873</td>\n",
       "      <td>39.450498</td>\n",
       "      <td>-109.960431</td>\n",
       "      <td>0</td>\n",
       "      <td>31</td>\n",
       "    </tr>\n",
       "    <tr>\n",
       "      <th>2</th>\n",
       "      <td>2020-06-21 12:14:53</td>\n",
       "      <td>3598215285024754</td>\n",
       "      <td>fraud_Swaniawski, Nitzsche and Welch</td>\n",
       "      <td>health_fitness</td>\n",
       "      <td>41.28</td>\n",
       "      <td>Ashley</td>\n",
       "      <td>Lopez</td>\n",
       "      <td>F</td>\n",
       "      <td>9333 Valentine Point</td>\n",
       "      <td>Bellmore</td>\n",
       "      <td>...</td>\n",
       "      <td>40.6729</td>\n",
       "      <td>-73.5365</td>\n",
       "      <td>34496</td>\n",
       "      <td>Librarian, public</td>\n",
       "      <td>c81755dbbbea9d5c77f094348a7579be</td>\n",
       "      <td>1371816893</td>\n",
       "      <td>40.495810</td>\n",
       "      <td>-74.196111</td>\n",
       "      <td>0</td>\n",
       "      <td>50</td>\n",
       "    </tr>\n",
       "    <tr>\n",
       "      <th>3</th>\n",
       "      <td>2020-06-21 12:15:15</td>\n",
       "      <td>3591919803438423</td>\n",
       "      <td>fraud_Haley Group</td>\n",
       "      <td>misc_pos</td>\n",
       "      <td>60.05</td>\n",
       "      <td>Brian</td>\n",
       "      <td>Williams</td>\n",
       "      <td>M</td>\n",
       "      <td>32941 Krystal Mill Apt. 552</td>\n",
       "      <td>Titusville</td>\n",
       "      <td>...</td>\n",
       "      <td>28.5697</td>\n",
       "      <td>-80.8191</td>\n",
       "      <td>54767</td>\n",
       "      <td>Set designer</td>\n",
       "      <td>2159175b9efe66dc301f149d3d5abf8c</td>\n",
       "      <td>1371816915</td>\n",
       "      <td>28.812398</td>\n",
       "      <td>-80.883061</td>\n",
       "      <td>0</td>\n",
       "      <td>34</td>\n",
       "    </tr>\n",
       "    <tr>\n",
       "      <th>4</th>\n",
       "      <td>2020-06-21 12:15:17</td>\n",
       "      <td>3526826139003047</td>\n",
       "      <td>fraud_Johnston-Casper</td>\n",
       "      <td>travel</td>\n",
       "      <td>3.19</td>\n",
       "      <td>Nathan</td>\n",
       "      <td>Massey</td>\n",
       "      <td>M</td>\n",
       "      <td>5783 Evan Roads Apt. 465</td>\n",
       "      <td>Falmouth</td>\n",
       "      <td>...</td>\n",
       "      <td>44.2529</td>\n",
       "      <td>-85.0170</td>\n",
       "      <td>1126</td>\n",
       "      <td>Furniture designer</td>\n",
       "      <td>57ff021bd3f328f8738bb535c302a31b</td>\n",
       "      <td>1371816917</td>\n",
       "      <td>44.959148</td>\n",
       "      <td>-85.884734</td>\n",
       "      <td>0</td>\n",
       "      <td>66</td>\n",
       "    </tr>\n",
       "  </tbody>\n",
       "</table>\n",
       "<p>5 rows × 22 columns</p>\n",
       "</div>"
      ],
      "text/plain": [
       "  trans_date_trans_time            cc_num  \\\n",
       "0   2020-06-21 12:14:25  2291163933867244   \n",
       "1   2020-06-21 12:14:33  3573030041201292   \n",
       "2   2020-06-21 12:14:53  3598215285024754   \n",
       "3   2020-06-21 12:15:15  3591919803438423   \n",
       "4   2020-06-21 12:15:17  3526826139003047   \n",
       "\n",
       "                               merchant        category    amt   first  \\\n",
       "0                 fraud_Kirlin and Sons   personal_care   2.86    Jeff   \n",
       "1                  fraud_Sporer-Keebler   personal_care  29.84  Joanne   \n",
       "2  fraud_Swaniawski, Nitzsche and Welch  health_fitness  41.28  Ashley   \n",
       "3                     fraud_Haley Group        misc_pos  60.05   Brian   \n",
       "4                 fraud_Johnston-Casper          travel   3.19  Nathan   \n",
       "\n",
       "       last gender                       street        city  ...      lat  \\\n",
       "0   Elliott      M            351 Darlene Green    Columbia  ...  33.9659   \n",
       "1  Williams      F             3638 Marsh Union     Altonah  ...  40.3207   \n",
       "2     Lopez      F         9333 Valentine Point    Bellmore  ...  40.6729   \n",
       "3  Williams      M  32941 Krystal Mill Apt. 552  Titusville  ...  28.5697   \n",
       "4    Massey      M     5783 Evan Roads Apt. 465    Falmouth  ...  44.2529   \n",
       "\n",
       "       long  city_pop                     job  \\\n",
       "0  -80.9355    333497     Mechanical engineer   \n",
       "1 -110.4360       302  Sales professional, IT   \n",
       "2  -73.5365     34496       Librarian, public   \n",
       "3  -80.8191     54767            Set designer   \n",
       "4  -85.0170      1126      Furniture designer   \n",
       "\n",
       "                          trans_num   unix_time  merch_lat  merch_long  \\\n",
       "0  2da90c7d74bd46a0caf3777415b3ebd3  1371816865  33.986391  -81.200714   \n",
       "1  324cc204407e99f51b0d6ca0055005e7  1371816873  39.450498 -109.960431   \n",
       "2  c81755dbbbea9d5c77f094348a7579be  1371816893  40.495810  -74.196111   \n",
       "3  2159175b9efe66dc301f149d3d5abf8c  1371816915  28.812398  -80.883061   \n",
       "4  57ff021bd3f328f8738bb535c302a31b  1371816917  44.959148  -85.884734   \n",
       "\n",
       "   is_fraud  age  \n",
       "0         0   53  \n",
       "1         0   31  \n",
       "2         0   50  \n",
       "3         0   34  \n",
       "4         0   66  \n",
       "\n",
       "[5 rows x 22 columns]"
      ]
     },
     "execution_count": 3,
     "metadata": {},
     "output_type": "execute_result"
    }
   ],
   "source": [
    "df.head()"
   ]
  },
  {
   "cell_type": "code",
   "execution_count": 4,
   "metadata": {},
   "outputs": [
    {
     "name": "stdout",
     "output_type": "stream",
     "text": [
      "<class 'pandas.core.frame.DataFrame'>\n",
      "RangeIndex: 61080 entries, 0 to 61079\n",
      "Data columns (total 22 columns):\n",
      " #   Column                 Non-Null Count  Dtype  \n",
      "---  ------                 --------------  -----  \n",
      " 0   trans_date_trans_time  61080 non-null  object \n",
      " 1   cc_num                 61080 non-null  int64  \n",
      " 2   merchant               61080 non-null  object \n",
      " 3   category               61080 non-null  object \n",
      " 4   amt                    61080 non-null  float64\n",
      " 5   first                  61080 non-null  object \n",
      " 6   last                   61080 non-null  object \n",
      " 7   gender                 61080 non-null  object \n",
      " 8   street                 61080 non-null  object \n",
      " 9   city                   61080 non-null  object \n",
      " 10  state                  61080 non-null  object \n",
      " 11  zip                    61080 non-null  int64  \n",
      " 12  lat                    61080 non-null  float64\n",
      " 13  long                   61080 non-null  float64\n",
      " 14  city_pop               61080 non-null  int64  \n",
      " 15  job                    61080 non-null  object \n",
      " 16  trans_num              61080 non-null  object \n",
      " 17  unix_time              61080 non-null  int64  \n",
      " 18  merch_lat              61080 non-null  float64\n",
      " 19  merch_long             61080 non-null  float64\n",
      " 20  is_fraud               61080 non-null  int64  \n",
      " 21  age                    61080 non-null  int64  \n",
      "dtypes: float64(5), int64(6), object(11)\n",
      "memory usage: 10.3+ MB\n"
     ]
    }
   ],
   "source": [
    "df.info()"
   ]
  },
  {
   "cell_type": "code",
   "execution_count": 5,
   "metadata": {},
   "outputs": [
    {
     "data": {
      "text/html": [
       "<div>\n",
       "<style scoped>\n",
       "    .dataframe tbody tr th:only-of-type {\n",
       "        vertical-align: middle;\n",
       "    }\n",
       "\n",
       "    .dataframe tbody tr th {\n",
       "        vertical-align: top;\n",
       "    }\n",
       "\n",
       "    .dataframe thead th {\n",
       "        text-align: right;\n",
       "    }\n",
       "</style>\n",
       "<table border=\"1\" class=\"dataframe\">\n",
       "  <thead>\n",
       "    <tr style=\"text-align: right;\">\n",
       "      <th></th>\n",
       "      <th>cc_num</th>\n",
       "      <th>amt</th>\n",
       "      <th>zip</th>\n",
       "      <th>lat</th>\n",
       "      <th>long</th>\n",
       "      <th>city_pop</th>\n",
       "      <th>unix_time</th>\n",
       "      <th>merch_lat</th>\n",
       "      <th>merch_long</th>\n",
       "      <th>is_fraud</th>\n",
       "      <th>age</th>\n",
       "    </tr>\n",
       "  </thead>\n",
       "  <tbody>\n",
       "    <tr>\n",
       "      <th>count</th>\n",
       "      <td>6.108000e+04</td>\n",
       "      <td>61080.000000</td>\n",
       "      <td>61080.000000</td>\n",
       "      <td>61080.000000</td>\n",
       "      <td>61080.000000</td>\n",
       "      <td>6.108000e+04</td>\n",
       "      <td>6.108000e+04</td>\n",
       "      <td>61080.000000</td>\n",
       "      <td>61080.000000</td>\n",
       "      <td>61080.000000</td>\n",
       "      <td>61080.000000</td>\n",
       "    </tr>\n",
       "    <tr>\n",
       "      <th>mean</th>\n",
       "      <td>4.117571e+17</td>\n",
       "      <td>124.617485</td>\n",
       "      <td>48644.736411</td>\n",
       "      <td>38.546054</td>\n",
       "      <td>-90.113618</td>\n",
       "      <td>9.151242e+04</td>\n",
       "      <td>1.369618e+09</td>\n",
       "      <td>38.543036</td>\n",
       "      <td>-90.111805</td>\n",
       "      <td>0.122888</td>\n",
       "      <td>47.532515</td>\n",
       "    </tr>\n",
       "    <tr>\n",
       "      <th>std</th>\n",
       "      <td>1.299718e+18</td>\n",
       "      <td>245.571151</td>\n",
       "      <td>26850.322962</td>\n",
       "      <td>5.089249</td>\n",
       "      <td>13.712719</td>\n",
       "      <td>3.084018e+05</td>\n",
       "      <td>9.318608e+06</td>\n",
       "      <td>5.125242</td>\n",
       "      <td>13.726812</td>\n",
       "      <td>0.328311</td>\n",
       "      <td>17.633551</td>\n",
       "    </tr>\n",
       "    <tr>\n",
       "      <th>min</th>\n",
       "      <td>6.041621e+10</td>\n",
       "      <td>1.000000</td>\n",
       "      <td>1257.000000</td>\n",
       "      <td>20.027100</td>\n",
       "      <td>-165.672300</td>\n",
       "      <td>2.300000e+01</td>\n",
       "      <td>1.325466e+09</td>\n",
       "      <td>19.042320</td>\n",
       "      <td>-166.646251</td>\n",
       "      <td>0.000000</td>\n",
       "      <td>16.000000</td>\n",
       "    </tr>\n",
       "    <tr>\n",
       "      <th>25%</th>\n",
       "      <td>1.800385e+14</td>\n",
       "      <td>11.830000</td>\n",
       "      <td>26041.000000</td>\n",
       "      <td>34.690200</td>\n",
       "      <td>-96.743000</td>\n",
       "      <td>7.430000e+02</td>\n",
       "      <td>1.371992e+09</td>\n",
       "      <td>34.774959</td>\n",
       "      <td>-96.793213</td>\n",
       "      <td>0.000000</td>\n",
       "      <td>34.000000</td>\n",
       "    </tr>\n",
       "    <tr>\n",
       "      <th>50%</th>\n",
       "      <td>3.519607e+15</td>\n",
       "      <td>52.080000</td>\n",
       "      <td>48088.000000</td>\n",
       "      <td>39.371600</td>\n",
       "      <td>-87.366700</td>\n",
       "      <td>2.456000e+03</td>\n",
       "      <td>1.372491e+09</td>\n",
       "      <td>39.376678</td>\n",
       "      <td>-87.324270</td>\n",
       "      <td>0.000000</td>\n",
       "      <td>46.000000</td>\n",
       "    </tr>\n",
       "    <tr>\n",
       "      <th>75%</th>\n",
       "      <td>4.634956e+15</td>\n",
       "      <td>100.190000</td>\n",
       "      <td>72011.000000</td>\n",
       "      <td>42.014400</td>\n",
       "      <td>-80.158000</td>\n",
       "      <td>2.032800e+04</td>\n",
       "      <td>1.372979e+09</td>\n",
       "      <td>41.971421</td>\n",
       "      <td>-80.199738</td>\n",
       "      <td>0.000000</td>\n",
       "      <td>59.000000</td>\n",
       "    </tr>\n",
       "    <tr>\n",
       "      <th>max</th>\n",
       "      <td>4.992346e+18</td>\n",
       "      <td>13149.150000</td>\n",
       "      <td>99783.000000</td>\n",
       "      <td>66.693300</td>\n",
       "      <td>-67.950300</td>\n",
       "      <td>2.906700e+06</td>\n",
       "      <td>1.373405e+09</td>\n",
       "      <td>67.510267</td>\n",
       "      <td>-66.955602</td>\n",
       "      <td>1.000000</td>\n",
       "      <td>96.000000</td>\n",
       "    </tr>\n",
       "  </tbody>\n",
       "</table>\n",
       "</div>"
      ],
      "text/plain": [
       "             cc_num           amt           zip           lat          long  \\\n",
       "count  6.108000e+04  61080.000000  61080.000000  61080.000000  61080.000000   \n",
       "mean   4.117571e+17    124.617485  48644.736411     38.546054    -90.113618   \n",
       "std    1.299718e+18    245.571151  26850.322962      5.089249     13.712719   \n",
       "min    6.041621e+10      1.000000   1257.000000     20.027100   -165.672300   \n",
       "25%    1.800385e+14     11.830000  26041.000000     34.690200    -96.743000   \n",
       "50%    3.519607e+15     52.080000  48088.000000     39.371600    -87.366700   \n",
       "75%    4.634956e+15    100.190000  72011.000000     42.014400    -80.158000   \n",
       "max    4.992346e+18  13149.150000  99783.000000     66.693300    -67.950300   \n",
       "\n",
       "           city_pop     unix_time     merch_lat    merch_long      is_fraud  \\\n",
       "count  6.108000e+04  6.108000e+04  61080.000000  61080.000000  61080.000000   \n",
       "mean   9.151242e+04  1.369618e+09     38.543036    -90.111805      0.122888   \n",
       "std    3.084018e+05  9.318608e+06      5.125242     13.726812      0.328311   \n",
       "min    2.300000e+01  1.325466e+09     19.042320   -166.646251      0.000000   \n",
       "25%    7.430000e+02  1.371992e+09     34.774959    -96.793213      0.000000   \n",
       "50%    2.456000e+03  1.372491e+09     39.376678    -87.324270      0.000000   \n",
       "75%    2.032800e+04  1.372979e+09     41.971421    -80.199738      0.000000   \n",
       "max    2.906700e+06  1.373405e+09     67.510267    -66.955602      1.000000   \n",
       "\n",
       "                age  \n",
       "count  61080.000000  \n",
       "mean      47.532515  \n",
       "std       17.633551  \n",
       "min       16.000000  \n",
       "25%       34.000000  \n",
       "50%       46.000000  \n",
       "75%       59.000000  \n",
       "max       96.000000  "
      ]
     },
     "execution_count": 5,
     "metadata": {},
     "output_type": "execute_result"
    }
   ],
   "source": [
    "df.describe()"
   ]
  },
  {
   "cell_type": "markdown",
   "metadata": {},
   "source": [
    "## Distribution of Gender"
   ]
  },
  {
   "cell_type": "code",
   "execution_count": 6,
   "metadata": {},
   "outputs": [
    {
     "data": {
      "text/plain": [
       "F    33140\n",
       "M    27940\n",
       "Name: gender, dtype: int64"
      ]
     },
     "execution_count": 6,
     "metadata": {},
     "output_type": "execute_result"
    }
   ],
   "source": [
    "df['gender'].value_counts()"
   ]
  },
  {
   "cell_type": "markdown",
   "metadata": {},
   "source": [
    "## Distribution of Age"
   ]
  },
  {
   "cell_type": "code",
   "execution_count": 7,
   "metadata": {},
   "outputs": [
    {
     "data": {
      "text/plain": [
       "Text(0, 0.5, 'frequency')"
      ]
     },
     "execution_count": 7,
     "metadata": {},
     "output_type": "execute_result"
    },
    {
     "data": {
      "image/png": "[encoded data removed]",
      "text/plain": [
       "<Figure size 1008x1008 with 3 Axes>"
      ]
     },
     "metadata": {
      "needs_background": "light"
     },
     "output_type": "display_data"
    }
   ],
   "source": [
    "plt.figure(figsize = (14, 14))\n",
    "\n",
    "plt.subplot(2, 2, 1)\n",
    "df['age'].hist(bins = 20, grid = False, xlabelsize = 12, ylabelsize = 12)\n",
    "plt.title('distribution of Age', fontsize = 18, pad = 12)\n",
    "plt.xlabel(\"Age\", fontsize = 15)\n",
    "plt.ylabel(\"frequency\",fontsize = 15)\n",
    "\n",
    "plt.subplot(2, 2, 3)\n",
    "df[df['gender']==  'M'].age.hist(bins = 20, grid = False, xlabelsize = 12, ylabelsize = 12)\n",
    "plt.title('distribution of Age - Male', fontsize = 18, pad = 12)\n",
    "plt.xlabel(\"Age\", fontsize = 15)\n",
    "plt.ylabel(\"frequency\",fontsize = 15)\n",
    "\n",
    "plt.subplot(2, 2, 4)\n",
    "df[df['gender']==  'F'].age.hist(bins = 20, grid = False, xlabelsize = 12, ylabelsize = 12)\n",
    "plt.title('distribution of Age - Female', fontsize = 18, pad = 12)\n",
    "plt.xlabel(\"Age\", fontsize = 15)\n",
    "plt.ylabel(\"frequency\",fontsize = 15)"
   ]
  },
  {
   "cell_type": "markdown",
   "metadata": {},
   "source": [
    "## Distribution of Locations "
   ]
  },
  {
   "cell_type": "code",
   "execution_count": 8,
   "metadata": {},
   "outputs": [
    {
     "data": {
      "text/plain": [
       "street\n",
       "43235 Mckenzie Views Apt. 837    171\n",
       "2924 Bobby Trafficway            158\n",
       "5796 Lee Coves Apt. 286          157\n",
       "444 Robert Mews                  156\n",
       "5395 Colon Burgs Suite 037       154\n",
       "Name: cc_num, dtype: int64"
      ]
     },
     "execution_count": 8,
     "metadata": {},
     "output_type": "execute_result"
    }
   ],
   "source": [
    "df.groupby(['street']).count().sort_values(by = 'cc_num', ascending= False)['cc_num'].head()"
   ]
  },
  {
   "cell_type": "code",
   "execution_count": 9,
   "metadata": {},
   "outputs": [
    {
     "data": {
      "text/plain": [
       "city\n",
       "Birmingham     257\n",
       "Phoenix        247\n",
       "Meridian       240\n",
       "San Antonio    235\n",
       "Utica          229\n",
       "Name: cc_num, dtype: int64"
      ]
     },
     "execution_count": 9,
     "metadata": {},
     "output_type": "execute_result"
    }
   ],
   "source": [
    "df.groupby(['city']).count().sort_values(by = 'cc_num', ascending= False)['cc_num'].head()"
   ]
  },
  {
   "cell_type": "code",
   "execution_count": 10,
   "metadata": {},
   "outputs": [
    {
     "data": {
      "text/plain": [
       "state\n",
       "TX    4430\n",
       "NY    4071\n",
       "PA    3743\n",
       "CA    2582\n",
       "OH    2283\n",
       "Name: cc_num, dtype: int64"
      ]
     },
     "execution_count": 10,
     "metadata": {},
     "output_type": "execute_result"
    }
   ],
   "source": [
    "df.groupby(['state']).count().sort_values(by = 'cc_num', ascending= False)['cc_num'].head()"
   ]
  },
  {
   "cell_type": "markdown",
   "metadata": {},
   "source": [
    "## Locations with most no.of Fraudsters"
   ]
  },
  {
   "cell_type": "code",
   "execution_count": 11,
   "metadata": {},
   "outputs": [
    {
     "data": {
      "text/plain": [
       "city\n",
       "Houston       39.0\n",
       "Warren        33.0\n",
       "Naples        29.0\n",
       "Huntsville    29.0\n",
       "Topeka        27.0\n",
       "Name: is_fraud, dtype: float64"
      ]
     },
     "execution_count": 11,
     "metadata": {},
     "output_type": "execute_result"
    }
   ],
   "source": [
    "df.groupby(['city']).sum().sort_values(by = 'is_fraud', ascending= False) ['is_fraud'].head()"
   ]
  },
  {
   "cell_type": "code",
   "execution_count": 12,
   "metadata": {},
   "outputs": [
    {
     "data": {
      "text/plain": [
       "state\n",
       "NY    555.0\n",
       "TX    479.0\n",
       "PA    458.0\n",
       "CA    326.0\n",
       "OH    321.0\n",
       "Name: is_fraud, dtype: float64"
      ]
     },
     "execution_count": 12,
     "metadata": {},
     "output_type": "execute_result"
    }
   ],
   "source": [
    "df.groupby(['state']).sum().sort_values(by = 'is_fraud', ascending= False) ['is_fraud'].head()"
   ]
  },
  {
   "cell_type": "markdown",
   "metadata": {},
   "source": [
    "## Top 5 Merchants"
   ]
  },
  {
   "cell_type": "code",
   "execution_count": 13,
   "metadata": {},
   "outputs": [
    {
     "data": {
      "text/plain": [
       "merchant\n",
       "fraud_Kilback LLC    219\n",
       "fraud_Cormier LLC    204\n",
       "fraud_Boyer PLC      190\n",
       "fraud_Schumm PLC     184\n",
       "fraud_Kuhn LLC       182\n",
       "Name: cc_num, dtype: int64"
      ]
     },
     "execution_count": 13,
     "metadata": {},
     "output_type": "execute_result"
    }
   ],
   "source": [
    "df.groupby(['merchant']).count().sort_values(by = 'cc_num', ascending= False)['cc_num'].head()"
   ]
  },
  {
   "cell_type": "markdown",
   "metadata": {},
   "source": [
    "## Top 5 Merchants - Most No.of Fraud Transactions"
   ]
  },
  {
   "cell_type": "code",
   "execution_count": 14,
   "metadata": {},
   "outputs": [
    {
     "data": {
      "text/plain": [
       "merchant\n",
       "fraud_Rau and Sons       49.0\n",
       "fraud_Kozey-Boehm        48.0\n",
       "fraud_Cormier LLC        48.0\n",
       "fraud_Vandervort-Funk    47.0\n",
       "fraud_Doyle Ltd          47.0\n",
       "Name: is_fraud, dtype: float64"
      ]
     },
     "execution_count": 14,
     "metadata": {},
     "output_type": "execute_result"
    }
   ],
   "source": [
    "df.groupby(['merchant']).sum().sort_values(by = 'is_fraud', ascending= False) ['is_fraud'].head()"
   ]
  },
  {
   "cell_type": "markdown",
   "metadata": {},
   "source": [
    "## Distribution of Merchant Categories"
   ]
  },
  {
   "cell_type": "code",
   "execution_count": 15,
   "metadata": {},
   "outputs": [
    {
     "data": {
      "text/plain": [
       "Text(0, 0.5, 'frequency')"
      ]
     },
     "execution_count": 15,
     "metadata": {},
     "output_type": "execute_result"
    },
    {
     "data": {
      "image/png": "[encoded data removed]",
      "text/plain": [
       "<Figure size 1440x1008 with 1 Axes>"
      ]
     },
     "metadata": {
      "needs_background": "light"
     },
     "output_type": "display_data"
    }
   ],
   "source": [
    "plt.figure(figsize = (20, 14))\n",
    "\n",
    "plt.subplot(2, 2, 1)\n",
    "df['category'].hist(bins = 30, grid = False, xlabelsize = 12, ylabelsize = 12)\n",
    "plt.title('distribution of merchant categories', fontsize = 18, pad = 12)\n",
    "plt.xlabel(\"categoty\", fontsize = 15)\n",
    "plt.xticks(rotation= 80)\n",
    "plt.ylabel(\"frequency\",fontsize = 15)"
   ]
  },
  {
   "cell_type": "markdown",
   "metadata": {},
   "source": [
    "### Top 5 Merchant Categories - most no.of Fraud Transactions"
   ]
  },
  {
   "cell_type": "code",
   "execution_count": 16,
   "metadata": {},
   "outputs": [
    {
     "data": {
      "text/plain": [
       "category\n",
       "grocery_pos      1743.0\n",
       "shopping_net     1713.0\n",
       "misc_net          915.0\n",
       "shopping_pos      843.0\n",
       "gas_transport     618.0\n",
       "Name: is_fraud, dtype: float64"
      ]
     },
     "execution_count": 16,
     "metadata": {},
     "output_type": "execute_result"
    }
   ],
   "source": [
    "df.groupby(['category']).sum().sort_values(by = 'is_fraud', ascending= False) ['is_fraud'].head()"
   ]
  },
  {
   "cell_type": "markdown",
   "metadata": {},
   "source": [
    "## Top 5 First names - Fraudsters"
   ]
  },
  {
   "cell_type": "code",
   "execution_count": 17,
   "metadata": {},
   "outputs": [
    {
     "data": {
      "text/plain": [
       "first\n",
       "Christopher    163.0\n",
       "Robert         162.0\n",
       "David          140.0\n",
       "Jennifer       123.0\n",
       "James          118.0\n",
       "Name: is_fraud, dtype: float64"
      ]
     },
     "execution_count": 17,
     "metadata": {},
     "output_type": "execute_result"
    }
   ],
   "source": [
    "df.groupby(['first']).sum().sort_values(by = 'is_fraud', ascending= False) ['is_fraud'].head()"
   ]
  },
  {
   "cell_type": "markdown",
   "metadata": {},
   "source": [
    "## Top 5 Last names - Fraudsters"
   ]
  },
  {
   "cell_type": "code",
   "execution_count": 18,
   "metadata": {},
   "outputs": [
    {
     "data": {
      "text/plain": [
       "last\n",
       "Johnson     158.0\n",
       "Smith       140.0\n",
       "Davis       135.0\n",
       "Martinez    131.0\n",
       "Jones       120.0\n",
       "Name: is_fraud, dtype: float64"
      ]
     },
     "execution_count": 18,
     "metadata": {},
     "output_type": "execute_result"
    }
   ],
   "source": [
    "df.groupby(['last']).sum().sort_values(by = 'is_fraud', ascending= False) ['is_fraud'].head()"
   ]
  },
  {
   "cell_type": "markdown",
   "metadata": {},
   "source": [
    "## Distribution of Transactions"
   ]
  },
  {
   "cell_type": "code",
   "execution_count": 19,
   "metadata": {},
   "outputs": [
    {
     "data": {
      "text/plain": [
       "Text(0, 0.5, 'frequency')"
      ]
     },
     "execution_count": 19,
     "metadata": {},
     "output_type": "execute_result"
    },
    {
     "data": {
      "image/png": "[encoded data removed]",
      "text/plain": [
       "<Figure size 1008x1008 with 3 Axes>"
      ]
     },
     "metadata": {
      "needs_background": "light"
     },
     "output_type": "display_data"
    }
   ],
   "source": [
    "plt.figure(figsize = (14, 14))\n",
    "plt.subplot(2, 2, 1)\n",
    "df[df['is_fraud']==  1].age.hist(bins = 20, grid = False, xlabelsize = 12, ylabelsize = 12)\n",
    "plt.title('distribution of Fraud transactions - Age', fontsize = 18, pad = 12)\n",
    "plt.xlabel(\"Age\", fontsize = 15)\n",
    "plt.ylabel(\"frequency\",fontsize = 15)\n",
    "\n",
    "plt.subplot(2, 2, 3)\n",
    "df.loc[(df[\"is_fraud\"] == 1) & (df[\"gender\"] == 'M')].age.hist(bins = 20, grid = False, xlabelsize = 12, ylabelsize = 12)\n",
    "plt.title('distribution of Fraud transactions - Male', fontsize = 18, pad = 12)\n",
    "plt.xlabel(\"Age\", fontsize = 15)\n",
    "plt.ylabel(\"frequency\",fontsize = 15)\n",
    "\n",
    "plt.subplot(2, 2, 4)\n",
    "df.loc[(df[\"is_fraud\"] == 1) & (df[\"gender\"] == 'F')].age.hist(bins = 20, grid = False, xlabelsize = 12, ylabelsize = 12)\n",
    "plt.title('distribution of Fraud transactions - Female', fontsize = 18, pad = 12)\n",
    "plt.xlabel(\"Age\", fontsize = 15)\n",
    "plt.ylabel(\"frequency\",fontsize = 15)"
   ]
  },
  {
   "cell_type": "markdown",
   "metadata": {},
   "source": [
    "## Top 5 - valuable Transactions"
   ]
  },
  {
   "cell_type": "code",
   "execution_count": 20,
   "metadata": {},
   "outputs": [
    {
     "data": {
      "text/html": [
       "<div>\n",
       "<style scoped>\n",
       "    .dataframe tbody tr th:only-of-type {\n",
       "        vertical-align: middle;\n",
       "    }\n",
       "\n",
       "    .dataframe tbody tr th {\n",
       "        vertical-align: top;\n",
       "    }\n",
       "\n",
       "    .dataframe thead th {\n",
       "        text-align: right;\n",
       "    }\n",
       "</style>\n",
       "<table border=\"1\" class=\"dataframe\">\n",
       "  <thead>\n",
       "    <tr style=\"text-align: right;\">\n",
       "      <th></th>\n",
       "      <th>cc_num</th>\n",
       "      <th>amt</th>\n",
       "    </tr>\n",
       "  </thead>\n",
       "  <tbody>\n",
       "    <tr>\n",
       "      <th>35399</th>\n",
       "      <td>4797297220948468262</td>\n",
       "      <td>13149.15</td>\n",
       "    </tr>\n",
       "    <tr>\n",
       "      <th>48552</th>\n",
       "      <td>4969856774088583</td>\n",
       "      <td>8021.63</td>\n",
       "    </tr>\n",
       "    <tr>\n",
       "      <th>13428</th>\n",
       "      <td>4378993458389626</td>\n",
       "      <td>6600.44</td>\n",
       "    </tr>\n",
       "    <tr>\n",
       "      <th>35840</th>\n",
       "      <td>676372984911</td>\n",
       "      <td>6297.01</td>\n",
       "    </tr>\n",
       "    <tr>\n",
       "      <th>43618</th>\n",
       "      <td>676102124465</td>\n",
       "      <td>6181.12</td>\n",
       "    </tr>\n",
       "  </tbody>\n",
       "</table>\n",
       "</div>"
      ],
      "text/plain": [
       "                    cc_num       amt\n",
       "35399  4797297220948468262  13149.15\n",
       "48552     4969856774088583   8021.63\n",
       "13428     4378993458389626   6600.44\n",
       "35840         676372984911   6297.01\n",
       "43618         676102124465   6181.12"
      ]
     },
     "execution_count": 20,
     "metadata": {},
     "output_type": "execute_result"
    }
   ],
   "source": [
    "df.sort_values(by = 'amt', ascending= False) [['cc_num','amt']].head()"
   ]
  },
  {
   "cell_type": "markdown",
   "metadata": {},
   "source": [
    "## Top 5 - Fraud Transactions (amount)"
   ]
  },
  {
   "cell_type": "code",
   "execution_count": 21,
   "metadata": {},
   "outputs": [
    {
     "data": {
      "text/html": [
       "<div>\n",
       "<style scoped>\n",
       "    .dataframe tbody tr th:only-of-type {\n",
       "        vertical-align: middle;\n",
       "    }\n",
       "\n",
       "    .dataframe tbody tr th {\n",
       "        vertical-align: top;\n",
       "    }\n",
       "\n",
       "    .dataframe thead th {\n",
       "        text-align: right;\n",
       "    }\n",
       "</style>\n",
       "<table border=\"1\" class=\"dataframe\">\n",
       "  <thead>\n",
       "    <tr style=\"text-align: right;\">\n",
       "      <th></th>\n",
       "      <th>cc_num</th>\n",
       "      <th>amt</th>\n",
       "    </tr>\n",
       "  </thead>\n",
       "  <tbody>\n",
       "    <tr>\n",
       "      <th>60848</th>\n",
       "      <td>3562793934111141</td>\n",
       "      <td>1376.04</td>\n",
       "    </tr>\n",
       "    <tr>\n",
       "      <th>56646</th>\n",
       "      <td>3500969075198072</td>\n",
       "      <td>1371.81</td>\n",
       "    </tr>\n",
       "    <tr>\n",
       "      <th>53869</th>\n",
       "      <td>4586810168620942</td>\n",
       "      <td>1334.07</td>\n",
       "    </tr>\n",
       "    <tr>\n",
       "      <th>60819</th>\n",
       "      <td>3562793934111141</td>\n",
       "      <td>1324.80</td>\n",
       "    </tr>\n",
       "    <tr>\n",
       "      <th>58351</th>\n",
       "      <td>6577777028615915</td>\n",
       "      <td>1313.18</td>\n",
       "    </tr>\n",
       "  </tbody>\n",
       "</table>\n",
       "</div>"
      ],
      "text/plain": [
       "                 cc_num      amt\n",
       "60848  3562793934111141  1376.04\n",
       "56646  3500969075198072  1371.81\n",
       "53869  4586810168620942  1334.07\n",
       "60819  3562793934111141  1324.80\n",
       "58351  6577777028615915  1313.18"
      ]
     },
     "execution_count": 21,
     "metadata": {},
     "output_type": "execute_result"
    }
   ],
   "source": [
    "df[df['is_fraud'] == 1].sort_values(by = 'amt', ascending= False) [['cc_num','amt']].head()"
   ]
  },
  {
   "cell_type": "markdown",
   "metadata": {},
   "source": [
    "## Distribution of Jobs"
   ]
  },
  {
   "cell_type": "markdown",
   "metadata": {},
   "source": [
    "### Top 5 jobs"
   ]
  },
  {
   "cell_type": "code",
   "execution_count": 22,
   "metadata": {},
   "outputs": [
    {
     "data": {
      "text/plain": [
       "Film/video editor           418\n",
       "Exhibition designer         402\n",
       "Naval architect             397\n",
       "Surveyor, land/geomatics    384\n",
       "Materials engineer          383\n",
       "Name: job, dtype: int64"
      ]
     },
     "execution_count": 22,
     "metadata": {},
     "output_type": "execute_result"
    }
   ],
   "source": [
    "df['job'].value_counts().head()"
   ]
  },
  {
   "cell_type": "markdown",
   "metadata": {},
   "source": [
    "### Top 5 jobs - Male"
   ]
  },
  {
   "cell_type": "code",
   "execution_count": 23,
   "metadata": {},
   "outputs": [
    {
     "data": {
      "text/plain": [
       "job\n",
       "Exhibition designer                                  402\n",
       "Audiological scientist                               285\n",
       "Chartered public finance accountant                  261\n",
       "Pensions consultant                                  237\n",
       "Historic buildings inspector/conservation officer    236\n",
       "Name: cc_num, dtype: int64"
      ]
     },
     "execution_count": 23,
     "metadata": {},
     "output_type": "execute_result"
    }
   ],
   "source": [
    "df.loc[(df[\"gender\"] == 'M')].groupby('job').count().sort_values(by = 'cc_num', ascending= False)['cc_num'].head()"
   ]
  },
  {
   "cell_type": "markdown",
   "metadata": {},
   "source": [
    "### Top 5 jobs - Female"
   ]
  },
  {
   "cell_type": "code",
   "execution_count": 24,
   "metadata": {},
   "outputs": [
    {
     "data": {
      "text/plain": [
       "job\n",
       "Environmental consultant    353\n",
       "Surveyor, land/geomatics    349\n",
       "Scientist, audiological     334\n",
       "Chief Executive Officer     326\n",
       "Systems developer           321\n",
       "Name: cc_num, dtype: int64"
      ]
     },
     "execution_count": 24,
     "metadata": {},
     "output_type": "execute_result"
    }
   ],
   "source": [
    "df.loc[(df[\"gender\"] == 'F')].groupby('job').count().sort_values(by = 'cc_num', ascending= False)['cc_num'].head()"
   ]
  },
  {
   "cell_type": "markdown",
   "metadata": {},
   "source": [
    "### Top 5 jobs - Male Fraudsters"
   ]
  },
  {
   "cell_type": "code",
   "execution_count": 25,
   "metadata": {},
   "outputs": [
    {
     "data": {
      "text/plain": [
       "job\n",
       "Exhibition designer               51\n",
       "Audiological scientist            46\n",
       "Trading standards officer         38\n",
       "Television/film/video producer    37\n",
       "Copywriter, advertising           35\n",
       "Name: cc_num, dtype: int64"
      ]
     },
     "execution_count": 25,
     "metadata": {},
     "output_type": "execute_result"
    }
   ],
   "source": [
    "df.loc[(df[\"gender\"] == 'M') &(df['is_fraud'] == 1)].groupby('job').count().sort_values(by = 'cc_num', ascending= False)['cc_num'].head()"
   ]
  },
  {
   "cell_type": "markdown",
   "metadata": {},
   "source": [
    "### Top 5 jobs - Female Fraudsters"
   ]
  },
  {
   "cell_type": "code",
   "execution_count": 26,
   "metadata": {},
   "outputs": [
    {
     "data": {
      "text/plain": [
       "job\n",
       "Prison officer              48\n",
       "Surveyor, land/geomatics    40\n",
       "Sales professional, IT      38\n",
       "Scientist, audiological     36\n",
       "Financial trader            34\n",
       "Name: cc_num, dtype: int64"
      ]
     },
     "execution_count": 26,
     "metadata": {},
     "output_type": "execute_result"
    }
   ],
   "source": [
    "df.loc[(df[\"gender\"] == 'F') &(df['is_fraud'] == 1)].groupby('job').count().sort_values(by = 'cc_num', ascending= False)['cc_num'].head()"
   ]
  },
  {
   "cell_type": "markdown",
   "metadata": {},
   "source": [
    "## Distribution of Credit-Card number"
   ]
  },
  {
   "cell_type": "markdown",
   "metadata": {},
   "source": [
    "## Top 5 - more Transactions"
   ]
  },
  {
   "cell_type": "code",
   "execution_count": 27,
   "metadata": {},
   "outputs": [
    {
     "data": {
      "text/plain": [
       "2242542703101233    171\n",
       "344709867813900     158\n",
       "6538891242532018    157\n",
       "6538441737335434    156\n",
       "30273037698427      154\n",
       "Name: cc_num, dtype: int64"
      ]
     },
     "execution_count": 27,
     "metadata": {},
     "output_type": "execute_result"
    }
   ],
   "source": [
    "df['cc_num'].value_counts().head()"
   ]
  },
  {
   "cell_type": "markdown",
   "metadata": {},
   "source": [
    "## Top 5 - more Fradulent Transactions"
   ]
  },
  {
   "cell_type": "code",
   "execution_count": 28,
   "metadata": {},
   "outputs": [
    {
     "data": {
      "text/plain": [
       "cc_num\n",
       "3520550088202337    19\n",
       "4593569795412       19\n",
       "4260128500325       18\n",
       "4874006077381178    16\n",
       "3556613125071656    16\n",
       "Name: is_fraud, dtype: int64"
      ]
     },
     "execution_count": 28,
     "metadata": {},
     "output_type": "execute_result"
    }
   ],
   "source": [
    "df.groupby(['cc_num']).sum().sort_values(by = 'is_fraud', ascending= False) ['is_fraud'].head()"
   ]
  },
  {
   "cell_type": "markdown",
   "metadata": {},
   "source": [
    "## Distribution of Time"
   ]
  },
  {
   "cell_type": "code",
   "execution_count": 29,
   "metadata": {},
   "outputs": [
    {
     "data": {
      "text/plain": [
       "Text(0, 0.5, 'frequency')"
      ]
     },
     "execution_count": 29,
     "metadata": {},
     "output_type": "execute_result"
    },
    {
     "data": {
      "image/png": "[encoded data removed]",
      "text/plain": [
       "<Figure size 1296x1008 with 4 Axes>"
      ]
     },
     "metadata": {
      "needs_background": "light"
     },
     "output_type": "display_data"
    }
   ],
   "source": [
    "plt.figure(figsize = (18, 14))\n",
    "\n",
    "plt.subplot(2, 2, 1)\n",
    "pd.to_datetime(df.loc[(df['is_fraud']==  1),'trans_date_trans_time']).dt.strftime('%Y').hist(bins = 4, grid = False, xlabelsize = 12, ylabelsize = 12)\n",
    "plt.title('Annual distribution of Fraud transactions', fontsize = 18, pad = 12)\n",
    "plt.xlabel(\"year\", fontsize = 15)\n",
    "plt.ylabel(\"frequency\",fontsize = 15)\n",
    "\n",
    "plt.subplot(2, 2, 2)\n",
    "pd.to_datetime(df.loc[(df['is_fraud']==  1),'trans_date_trans_time']).dt.strftime('%m').hist(bins = 24, grid = False, xlabelsize = 12, ylabelsize = 12)\n",
    "plt.title('Monthly distribution of Fraud transactions', fontsize = 18, pad = 12)\n",
    "plt.xlabel(\"month\", fontsize = 15)\n",
    "plt.ylabel(\"frequency\",fontsize = 15)\n",
    "\n",
    "plt.subplot(2, 2, 3)\n",
    "getattr(pd.to_datetime(df.loc[(df['is_fraud']==  1),'trans_date_trans_time']).dt, 'dayofweek').hist(bins = 14, grid = False, xlabelsize = 12, ylabelsize = 12)\n",
    "plt.title('Weekly distribution of Fraud transactions', fontsize = 18, pad = 12)\n",
    "plt.xlabel(\"days of the week\", fontsize = 15)\n",
    "plt.ylabel(\"frequency\",fontsize = 15)\n",
    "\n",
    "plt.subplot(2, 2, 4)\n",
    "pd.to_datetime(df.loc[(df['is_fraud']==  1),'trans_date_trans_time']).dt.strftime('%d').hist(bins = 62, grid = False, xlabelsize = 12, ylabelsize = 12)\n",
    "plt.title('Daliy distribution of Fraud transactions', fontsize = 18, pad = 12)\n",
    "plt.xlabel(\"days\", fontsize = 15)\n",
    "plt.xticks(rotation= 70)\n",
    "plt.ylabel(\"frequency\",fontsize = 15)"
   ]
  }
 ],
 "metadata": {
  "kernelspec": {
   "display_name": "Python 3",
   "language": "python",
   "name": "python3"
  },
  "language_info": {
   "codemirror_mode": {
    "name": "ipython",
    "version": 3
   },
   "file_extension": ".py",
   "mimetype": "text/x-python",
   "name": "python",
   "nbconvert_exporter": "python",
   "pygments_lexer": "ipython3",
   "version": "3.7.6"
  }
 },
 "nbformat": 4,
 "nbformat_minor": 4
}
